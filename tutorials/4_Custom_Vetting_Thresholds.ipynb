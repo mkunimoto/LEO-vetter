{
 "cells": [
  {
   "cell_type": "code",
   "execution_count": 1,
   "id": "dbd291ee",
   "metadata": {},
   "outputs": [],
   "source": [
    "import numpy as np\n",
    "import pandas as pd\n",
    "import os\n",
    "\n",
    "from leo_vetter.stellar import quadratic_ldc\n",
    "from leo_vetter.main import TCELightCurve\n",
    "from leo_vetter.thresholds import check_thresholds\n",
    "\n",
    "import lightkurve as lk\n",
    "from astroquery.mast import Catalogs"
   ]
  },
  {
   "cell_type": "markdown",
   "id": "6c86ccf7",
   "metadata": {},
   "source": [
    "### Using Custom Vetting Thresholds\n",
    "\n",
    "Pass-fail thresholds are meant to mimic human decision-making, but everyone has their own tolerance for what is considered a planet candidate. You may find that the current thresholds are too strong or weak.\n",
    "\n",
    "You may also want to tune the pass-fail thresholds for your specific use-case. For example, if you are mostly interested in identifying new planets, you may want to use more lenient thresholds to recover more planets (at the cost of having a higher false positive/false alarm rate).\n",
    "\n",
    "This example will briefly cover how you can tell the vetter to use a different set of thresholds."
   ]
  },
  {
   "cell_type": "code",
   "execution_count": 2,
   "id": "384fba11",
   "metadata": {},
   "outputs": [
    {
     "name": "stdout",
     "output_type": "stream",
     "text": [
      "Estimating SES and MES time series...\n"
     ]
    },
    {
     "name": "stderr",
     "output_type": "stream",
     "text": [
      "/Users/batfan/miniconda3/envs/exoplanet/lib/python3.12/site-packages/leo_vetter/utils.py:17: RuntimeWarning: invalid value encountered in scalar divide\n",
      "  mean = np.sum(w * y) / np.sum(w)\n",
      "/Users/batfan/miniconda3/envs/exoplanet/lib/python3.12/site-packages/leo_vetter/utils.py:23: RuntimeWarning: divide by zero encountered in scalar divide\n",
      "  err = 1 / np.sqrt(np.sum(w))\n"
     ]
    },
    {
     "name": "stdout",
     "output_type": "stream",
     "text": [
      "Fitting linear, trapezoid, and transit models...\n",
      "Running SWEET test...\n",
      "Getting odd-even metrics...\n",
      "Checking individual transit events...\n",
      "Running modshift...\n",
      "Estimating derived parameters...\n",
      "Done!\n"
     ]
    },
    {
     "name": "stderr",
     "output_type": "stream",
     "text": [
      "/Users/batfan/miniconda3/envs/exoplanet/lib/python3.12/site-packages/numpy/lib/nanfunctions.py:1215: RuntimeWarning: Mean of empty slice\n",
      "  return np.nanmean(a, axis, out=out, keepdims=keepdims)\n",
      "/Users/batfan/miniconda3/envs/exoplanet/lib/python3.12/site-packages/leo_vetter/individual.py:106: RuntimeWarning: divide by zero encountered in scalar divide\n",
      "  tlc.redchi2[i] = chi2 / (np.sum(fit_epoch) - 6)\n"
     ]
    }
   ],
   "source": [
    "tic = 231663901\n",
    "per = 1.430363 \n",
    "epo = 1338.885\n",
    "dur = 0.069\n",
    "\n",
    "# If you ran the previous notebooks, the metrics were saved to a file, so we can skip recomputing them here.\n",
    "save_file = f\"{tic}.1.metrics\"\n",
    "\n",
    "if os.path.exists(save_file):\n",
    "    print(\"Loading saved metrics from file.\")\n",
    "    metrics = pd.read_csv(save_file, index_col=False)\n",
    "    metrics = metrics.to_dict(\"records\")[0]\n",
    "else:\n",
    "    # Download light curve\n",
    "    search_result = lk.search_lightcurve(f\"TIC {tic}\", mission=\"TESS\", author=\"TESS-SPOC\")\n",
    "    lcs = search_result.download_all()\n",
    "    lc = lcs.stitch()\n",
    "    lc = lc[~np.isnan(lc[\"flux\"]) & (lc[\"quality\"] == 0)]\n",
    "    transit_mask = lc.create_transit_mask(transit_time=epo, period=per, duration=dur)\n",
    "    lc_flat = lc.flatten(mask=transit_mask)\n",
    "\n",
    "    time = np.asarray(lc_flat[\"time\"].value)\n",
    "    raw = np.asarray(lc[\"flux\"].value)\n",
    "    flux = np.asarray(lc_flat[\"flux\"].value)\n",
    "    flux_err = np.asarray(lc_flat[\"flux_err\"].value)\n",
    "\n",
    "    # Get stellar properties\n",
    "    result = Catalogs.query_criteria(catalog=\"TIC\", ID=tic)\n",
    "    star = {}\n",
    "    star[\"tic\"] = tic\n",
    "    for key in [\"rad\",\"mass\",\"rho\",\"Teff\",\"logg\"]:\n",
    "        star[key] = float(result[key])\n",
    "        star[\"e_\"+key] = float(result[\"e_\"+key])\n",
    "\n",
    "    star[\"u1\"], star[\"u2\"] = quadratic_ldc(star[\"Teff\"], star[\"logg\"])\n",
    "\n",
    "    # Load the TCELightCurve class\n",
    "    tlc = TCELightCurve(tic, time, raw, flux, flux_err, per, epo, dur, planetno=1)\n",
    "    \n",
    "    # Flux-level vetting\n",
    "    tlc.compute_flux_metrics(star, verbose=True)\n",
    "    metrics = tlc.metrics"
   ]
  },
  {
   "cell_type": "markdown",
   "id": "33a0aa40",
   "metadata": {},
   "source": [
    "Now that you've got your metrics, you have two options for applying custom thresholds:\n",
    "\n",
    "a) For easy custom thresholds: simply define a dict containing the thresholds you want (the defaults are provided in the `thresholds.py` file and copied here) and use those when you check the metrics!"
   ]
  },
  {
   "cell_type": "code",
   "execution_count": 3,
   "id": "8bee7489",
   "metadata": {},
   "outputs": [
    {
     "name": "stdout",
     "output_type": "stream",
     "text": [
      "Passed all FA tests\n",
      "Passed all FP tests\n"
     ]
    }
   ],
   "source": [
    "use_thresholds = {\n",
    "    \"MES\": 6.2,\n",
    "    \"N_transit\": 3,\n",
    "    \"SHP\": 0.5,\n",
    "    \"MS1\": 1,\n",
    "    \"MS2\": 1,\n",
    "    \"MS3\": 1,\n",
    "    \"chases\": 0.78,\n",
    "    \"DMM\": 1.5,\n",
    "    \"max_SES_to_MES\": 0.8,\n",
    "    \"AIC1\": -60,\n",
    "    \"AIC2\": -30,\n",
    "    \"SWEET\": 15,\n",
    "    \"ASYM\": 8,\n",
    "    \"CHI\": 7.8,\n",
    "    \"frac_gap\": 0.5,\n",
    "    \"V_shape\": 1.5,\n",
    "    \"size\": 22,\n",
    "    \"MS4\": 0,\n",
    "    \"MS5\": -1,\n",
    "    \"MS6\": -1,\n",
    "    \"offset\": 15,\n",
    "}\n",
    "\n",
    "FA = check_thresholds(metrics, \"FA\", verbose=True, thresholds=use_thresholds)\n",
    "FP = check_thresholds(metrics, \"FP\", verbose=True, thresholds=use_thresholds)"
   ]
  },
  {
   "cell_type": "markdown",
   "id": "7845126a-e8bc-4ca6-97b5-dd49116fd811",
   "metadata": {},
   "source": [
    "b) For more comprehensive custom thresholds: copy the `thresholds.py` file to your working directory, for example into a file called `user_thresholds.py`, and edit it directly. You can change or even add new tests, as long as they meet the following criteria:\n",
    "\n",
    "1. Takes metrics and thresholds as an input\n",
    "2. Outputs a mask (True if the test fails; False otherwise) and a message to be communicated if the test fails\n",
    "\n",
    "Add the new test to the list of either FA or FP tests in the function `check_thresholds`. To use this file instead of the default file built in to LEO, run the following:"
   ]
  },
  {
   "cell_type": "code",
   "execution_count": 4,
   "id": "5b263a24",
   "metadata": {},
   "outputs": [
    {
     "name": "stdout",
     "output_type": "stream",
     "text": [
      "Passed all FA tests\n",
      "Passed all FP tests\n"
     ]
    }
   ],
   "source": [
    "from user_thresholds import check_thresholds\n",
    "\n",
    "FA = check_thresholds(metrics, \"FA\", verbose=True)\n",
    "FP = check_thresholds(metrics, \"FP\", verbose=True)"
   ]
  },
  {
   "cell_type": "code",
   "execution_count": null,
   "id": "dc96c11e",
   "metadata": {},
   "outputs": [],
   "source": []
  }
 ],
 "metadata": {
  "kernelspec": {
   "display_name": "exoplanet",
   "language": "python",
   "name": "exoplanet"
  },
  "language_info": {
   "codemirror_mode": {
    "name": "ipython",
    "version": 3
   },
   "file_extension": ".py",
   "mimetype": "text/x-python",
   "name": "python",
   "nbconvert_exporter": "python",
   "pygments_lexer": "ipython3",
   "version": "3.12.3"
  }
 },
 "nbformat": 4,
 "nbformat_minor": 5
}
